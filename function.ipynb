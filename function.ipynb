{
  "nbformat": 4,
  "nbformat_minor": 0,
  "metadata": {
    "colab": {
      "provenance": []
    },
    "kernelspec": {
      "name": "python3",
      "display_name": "Python 3"
    },
    "language_info": {
      "name": "python"
    }
  },
  "cells": [
    {
      "cell_type": "markdown",
      "source": [
        "Function assignment"
      ],
      "metadata": {
        "id": "Z59iTMmuJo6T"
      }
    },
    {
      "cell_type": "code",
      "execution_count": null,
      "metadata": {
        "id": "hcXA0rkbJP7E"
      },
      "outputs": [],
      "source": []
    },
    {
      "cell_type": "markdown",
      "source": [
        "1. **What is the difference between a function and a method in Python?**\n",
        "- A function is a block of reusable code that performs a specific task and is defined using the def keyword. A method is a function that is associated with an object and is defined within a class.\n",
        "\n",
        "Example:\n",
        "### Function\n",
        "def add(x, y):\n",
        "    return x + y\n",
        "\n",
        "### Method\n",
        "class Calculator:\n",
        "    def multiply(self, x, y):\n",
        "        return x * y\n",
        "2. **Explain the concept of function arguments and parameters in Python.**\n",
        "- Parameters are the variables listed in a function’s definition, while arguments are the values passed to the function when it is called.\n",
        "\n",
        "Example:\n",
        "def greet(name):  # 'name' is a parameter\n",
        "    print(f\"Hello, {name}!\")\n",
        "\n",
        "greet(\"Alice\")  # \"Alice\" is an argument.\n",
        "\n",
        "3. **What are the different ways to define and call a function in Python?**\n",
        "- Functions can be defined using def, lambda, or as part of a class (methods). They can be called directly, or through an object if they are methods.\n",
        "\n",
        "Example:\n",
        "### Using def\n",
        "def square(x):\n",
        "    return x ** 2\n",
        "\n",
        "###  Using lambda\n",
        "cube = lambda x: x ** 3\n",
        "\n",
        "### Calling the functions\n",
        "print(square(4))\n",
        "print(cube(3))\n",
        "4. **What is the purpose of the return statement in a Python function?**\n",
        "- The return statement is used to exit a function and send a value back to the caller. If no return statement is provided, the function returns None.\n",
        "\n",
        "Example:\n",
        "def add(x, y):\n",
        "    return x + y\n",
        "\n",
        "result = add(5, 3)  # result will be 8\n",
        "5. **What are iterators in Python and how do they differ from iterables?**\n",
        "- An iterable is an object that can be iterated over (e.g., lists, tuples). An iterator is an object that implements the iterator protocol, which consists of the methods __iter__() and __next__().\n",
        "\n",
        "Example:\n",
        "my_list = [1, 2, 3]\n",
        "my_iter = iter(my_list)  # Creating an iterator\n",
        "\n",
        "print(next(my_iter))  # Outputs 1\n",
        "6. **Explain the concept of generators in Python and how they are defined.**\n",
        "- Generators are a type of iterable that generate values on the fly and are defined using the yield keyword instead of return.\n",
        "\n",
        "Example:\n",
        "def countdown(n):\n",
        "    while n > 0:\n",
        "        yield n\n",
        "        n -= 1\n",
        "\n",
        "for num in countdown(5):\n",
        "    print(num)  # Outputs 5, 4, 3, 2, 1\n",
        "7. **What are the advantages of using generators over regular functions?**\n",
        "Generators are more memory-efficient because they yield items one at a time, instead of returning all items at once. This is particularly useful for large datasets.\n",
        "\n",
        "Example:\n",
        "def large_range(n):\n",
        "    for i in range(n):\n",
        "        yield i\n",
        "\n",
        "### Consumes less memory than a list\n",
        "gen = large_range(1000000)\n",
        "8. **What is a lambda function in Python and when is it typically used?**\n",
        "A lambda function is an anonymous function defined using the lambda keyword. It is often used for short functions that are not reused elsewhere, particularly in functional programming contexts.\n",
        "\n",
        "Example:\n",
        "add = lambda x, y: x + y\n",
        "print(add(2, 3))  # Outputs 5\n",
        "9. **Explain the purpose and usage of the map() function in Python.**\n",
        "- The map() function applies a given function to all items in an iterable and returns a map object (which can be converted to a list).\n",
        "\n",
        "Example:\n",
        "squared = list(map(lambda x: x ** 2, [1, 2, 3, 4]))\n",
        "print(squared)  # Outputs [1, 4, 9, 16]\n",
        "10. **What is the difference between map(), reduce(), and filter() functions in Python?**\n",
        "- map(): Applies a function to all items in an iterable.\n",
        "\n",
        "reduce(): Applies a function cumulatively to the items of an iterable, reducing it to a single value.\n",
        "\n",
        "filter(): Filters items from an iterable based on a function that returns True or False.\n",
        "\n",
        "Example:\n",
        "from functools import reduce\n",
        "\n",
        "### Using reduce to sum numbers\n",
        "result = reduce(lambda x, y: x + y, [1, 2, 3, 4])\n",
        "print(result)  # Outputs 10\n",
        "11. **Using pen & Paper write the internal mechanism for sum operation using reduce function on this given list: [47, 11, 42, 13].**\n",
        "- To calculate the sum using reduce:\n",
        "\n",
        "Start with the first two elements: 47 and 11. The operation is 47 + 11 = 58.\n",
        "\n",
        "Next, take the result 58 and the next element 42. The operation is 58 + 42 = 100.\n",
        "\n",
        "Finally, take the result 100 and the last element 13. The operation is 100 + 13 = 113.\n",
        "\n",
        "Thus, the final result is 113."
      ],
      "metadata": {
        "id": "9iWiSVDVJp6V"
      }
    },
    {
      "cell_type": "markdown",
      "source": [
        "# Practical question"
      ],
      "metadata": {
        "id": "qM7Kc08tM4OM"
      }
    },
    {
      "cell_type": "code",
      "source": [
        "# 1. Write a Python function that takes a list of numbers as input\n",
        "#    and returns the sum of all even numbers in the list.\n",
        "def sum_of_evens(lst):\n",
        "    return sum(num for num in lst if num % 2 == 0)\n",
        "\n",
        "# Example Usage:\n",
        "print(sum_of_evens([1, 2, 3, 4, 5, 6]))  # Output: 12"
      ],
      "metadata": {
        "colab": {
          "base_uri": "https://localhost:8080/"
        },
        "id": "I1U2wh9cMKj5",
        "outputId": "433fe364-ba25-4a43-b003-8ade95869dba"
      },
      "execution_count": 1,
      "outputs": [
        {
          "output_type": "stream",
          "name": "stdout",
          "text": [
            "12\n"
          ]
        }
      ]
    },
    {
      "cell_type": "code",
      "source": [
        "# 2. Create a Python function that accepts a string\n",
        "#    and returns the reverse of that string.\n",
        "def reverse_string(s):\n",
        "    return s[::-1]\n",
        "\n",
        "# Example Usage:\n",
        "print(reverse_string(\"hello\"))  # Output: \"olleh\""
      ],
      "metadata": {
        "colab": {
          "base_uri": "https://localhost:8080/"
        },
        "id": "GAXqtgqCN8iY",
        "outputId": "013c32f2-87b3-4003-9709-cc574b88cf68"
      },
      "execution_count": 2,
      "outputs": [
        {
          "output_type": "stream",
          "name": "stdout",
          "text": [
            "olleh\n"
          ]
        }
      ]
    },
    {
      "cell_type": "code",
      "source": [
        "# 3. Implement a Python function that takes a list of integers\n",
        "#    and returns a new list containing the squares of each number.\n",
        "def square_list(lst):\n",
        "    return [num ** 2 for num in lst]\n",
        "\n",
        "# Example Usage:\n",
        "print(square_list([1, 2, 3, 4]))  # Output: [1, 4, 9, 16]"
      ],
      "metadata": {
        "colab": {
          "base_uri": "https://localhost:8080/"
        },
        "id": "FLya3JOSN8ZX",
        "outputId": "a3e459c7-5089-4075-e80b-f8decc704a41"
      },
      "execution_count": 3,
      "outputs": [
        {
          "output_type": "stream",
          "name": "stdout",
          "text": [
            "[1, 4, 9, 16]\n"
          ]
        }
      ]
    },
    {
      "cell_type": "code",
      "source": [
        "# 4. Write a Python function that checks if a given number is prime\n",
        "#    or not from 1 to 200.\n",
        "def is_prime(n):\n",
        "    if n < 2:\n",
        "        return False\n",
        "    for i in range(2, int(n ** 0.5) + 1):\n",
        "        if n % i == 0:\n",
        "            return False\n",
        "    return True\n",
        "\n",
        "# Example Usage:\n",
        "print(is_prime(7))  # Output: True\n",
        "print(is_prime(10)) # Output: False"
      ],
      "metadata": {
        "colab": {
          "base_uri": "https://localhost:8080/"
        },
        "id": "3dwgRewtN8QW",
        "outputId": "d6c1dfd7-9596-4b47-a604-7d9ee528dfb2"
      },
      "execution_count": 4,
      "outputs": [
        {
          "output_type": "stream",
          "name": "stdout",
          "text": [
            "True\n",
            "False\n"
          ]
        }
      ]
    },
    {
      "cell_type": "code",
      "source": [
        "# 5. Create an iterator class in Python that generates\n",
        "#    the Fibonacci sequence up to a specified number of terms.\n",
        "class FibonacciIterator:\n",
        "    def __init__(self, max_terms):\n",
        "        self.max_terms = max_terms  # Maximum number of terms\n",
        "        self.a, self.b = 0, 1  # Initial Fibonacci numbers\n",
        "        self.count = 0  # Counter to track iterations\n",
        "\n",
        "    def __iter__(self):\n",
        "        return self\n",
        "\n",
        "    def __next__(self):\n",
        "        if self.count >= self.max_terms:\n",
        "            raise StopIteration\n",
        "        self.count += 1\n",
        "        fib = self.a\n",
        "        self.a, self.b = self.b, self.a + self.b\n",
        "        return fib\n",
        "\n",
        "# Example Usage:\n",
        "fib_iter = FibonacciIterator(10)\n",
        "print(list(fib_iter))  # Output: [0, 1, 1, 2, 3, 5, 8, 13, 21, 34]"
      ],
      "metadata": {
        "colab": {
          "base_uri": "https://localhost:8080/"
        },
        "id": "Q2Ad6IqcN8GN",
        "outputId": "efedea9e-e3ac-418d-cea7-db077c0fbb60"
      },
      "execution_count": 5,
      "outputs": [
        {
          "output_type": "stream",
          "name": "stdout",
          "text": [
            "[0, 1, 1, 2, 3, 5, 8, 13, 21, 34]\n"
          ]
        }
      ]
    },
    {
      "cell_type": "code",
      "source": [
        "# 6. Write a generator function in Python that yields the powers of 2 up to a given exponent.\n",
        "def powers_of_two(n):\n",
        "    \"\"\"Generator that yields powers of 2 up to 2^n.\"\"\"\n",
        "    for i in range(n + 1):\n",
        "        yield 2 ** i\n",
        "\n",
        "# Example Usage:\n",
        "for num in powers_of_two(5):\n",
        "    print(num)  # Output: 1, 2, 4, 8, 16, 32\n"
      ],
      "metadata": {
        "colab": {
          "base_uri": "https://localhost:8080/"
        },
        "id": "ZCiAznRCOSrF",
        "outputId": "2736bbf2-a1c9-4ee9-fae4-c05052a843fc"
      },
      "execution_count": 6,
      "outputs": [
        {
          "output_type": "stream",
          "name": "stdout",
          "text": [
            "1\n",
            "2\n",
            "4\n",
            "8\n",
            "16\n",
            "32\n"
          ]
        }
      ]
    },
    {
      "cell_type": "code",
      "source": [
        "# 7. Implement a generator function that reads a file line by line and yields each line as a string.\n",
        "\n",
        "def read_file_line_by_line(filename):\n",
        "    \"\"\"Generator that reads a file line by line.\"\"\"\n",
        "    with open(filename, 'r') as file:\n",
        "        for line in file:\n",
        "            yield line.strip()\n",
        "\n",
        "# Example Usage:\n",
        "# Assuming 'sample.txt' exists in the same directory\n",
        "for line in read_file_line_by_line('sample.txt'):\n",
        "    print(line)"
      ],
      "metadata": {
        "colab": {
          "base_uri": "https://localhost:8080/",
          "height": 315
        },
        "id": "yUrb91YSOy88",
        "outputId": "01a42084-9ff1-49fd-ebb4-e8f5e39ccfa1"
      },
      "execution_count": 7,
      "outputs": [
        {
          "output_type": "error",
          "ename": "FileNotFoundError",
          "evalue": "[Errno 2] No such file or directory: 'sample.txt'",
          "traceback": [
            "\u001b[0;31m---------------------------------------------------------------------------\u001b[0m",
            "\u001b[0;31mFileNotFoundError\u001b[0m                         Traceback (most recent call last)",
            "\u001b[0;32m<ipython-input-7-3d63fa3d438c>\u001b[0m in \u001b[0;36m<cell line: 0>\u001b[0;34m()\u001b[0m\n\u001b[1;32m      9\u001b[0m \u001b[0;31m# Example Usage:\u001b[0m\u001b[0;34m\u001b[0m\u001b[0;34m\u001b[0m\u001b[0m\n\u001b[1;32m     10\u001b[0m \u001b[0;31m# Assuming 'sample.txt' exists in the same directory\u001b[0m\u001b[0;34m\u001b[0m\u001b[0;34m\u001b[0m\u001b[0m\n\u001b[0;32m---> 11\u001b[0;31m \u001b[0;32mfor\u001b[0m \u001b[0mline\u001b[0m \u001b[0;32min\u001b[0m \u001b[0mread_file_line_by_line\u001b[0m\u001b[0;34m(\u001b[0m\u001b[0;34m'sample.txt'\u001b[0m\u001b[0;34m)\u001b[0m\u001b[0;34m:\u001b[0m\u001b[0;34m\u001b[0m\u001b[0;34m\u001b[0m\u001b[0m\n\u001b[0m\u001b[1;32m     12\u001b[0m     \u001b[0mprint\u001b[0m\u001b[0;34m(\u001b[0m\u001b[0mline\u001b[0m\u001b[0;34m)\u001b[0m\u001b[0;34m\u001b[0m\u001b[0;34m\u001b[0m\u001b[0m\n",
            "\u001b[0;32m<ipython-input-7-3d63fa3d438c>\u001b[0m in \u001b[0;36mread_file_line_by_line\u001b[0;34m(filename)\u001b[0m\n\u001b[1;32m      3\u001b[0m \u001b[0;32mdef\u001b[0m \u001b[0mread_file_line_by_line\u001b[0m\u001b[0;34m(\u001b[0m\u001b[0mfilename\u001b[0m\u001b[0;34m)\u001b[0m\u001b[0;34m:\u001b[0m\u001b[0;34m\u001b[0m\u001b[0;34m\u001b[0m\u001b[0m\n\u001b[1;32m      4\u001b[0m     \u001b[0;34m\"\"\"Generator that reads a file line by line.\"\"\"\u001b[0m\u001b[0;34m\u001b[0m\u001b[0;34m\u001b[0m\u001b[0m\n\u001b[0;32m----> 5\u001b[0;31m     \u001b[0;32mwith\u001b[0m \u001b[0mopen\u001b[0m\u001b[0;34m(\u001b[0m\u001b[0mfilename\u001b[0m\u001b[0;34m,\u001b[0m \u001b[0;34m'r'\u001b[0m\u001b[0;34m)\u001b[0m \u001b[0;32mas\u001b[0m \u001b[0mfile\u001b[0m\u001b[0;34m:\u001b[0m\u001b[0;34m\u001b[0m\u001b[0;34m\u001b[0m\u001b[0m\n\u001b[0m\u001b[1;32m      6\u001b[0m         \u001b[0;32mfor\u001b[0m \u001b[0mline\u001b[0m \u001b[0;32min\u001b[0m \u001b[0mfile\u001b[0m\u001b[0;34m:\u001b[0m\u001b[0;34m\u001b[0m\u001b[0;34m\u001b[0m\u001b[0m\n\u001b[1;32m      7\u001b[0m             \u001b[0;32myield\u001b[0m \u001b[0mline\u001b[0m\u001b[0;34m.\u001b[0m\u001b[0mstrip\u001b[0m\u001b[0;34m(\u001b[0m\u001b[0;34m)\u001b[0m\u001b[0;34m\u001b[0m\u001b[0;34m\u001b[0m\u001b[0m\n",
            "\u001b[0;31mFileNotFoundError\u001b[0m: [Errno 2] No such file or directory: 'sample.txt'"
          ]
        }
      ]
    },
    {
      "cell_type": "code",
      "source": [
        "# 8. Use a lambda function in Python to sort a list of tuples based on the second element of each tuple.\n",
        "# List of tuples\n",
        "tuples_list = [(1, 3), (4, 1), (2, 5), (7, 2)]\n",
        "\n",
        "# Sorting based on the second element of each tuple\n",
        "sorted_list = sorted(tuples_list, key=lambda x: x[1])\n",
        "\n",
        "# Example Usage:\n",
        "print(sorted_list)  # Output: [(4, 1), (7, 2), (1, 3), (2, 5)]"
      ],
      "metadata": {
        "colab": {
          "base_uri": "https://localhost:8080/"
        },
        "id": "BHSb-x3ROysb",
        "outputId": "e3bf9e32-50b3-4ea3-8981-02173cdf707e"
      },
      "execution_count": 8,
      "outputs": [
        {
          "output_type": "stream",
          "name": "stdout",
          "text": [
            "[(4, 1), (7, 2), (1, 3), (2, 5)]\n"
          ]
        }
      ]
    },
    {
      "cell_type": "code",
      "source": [
        "# 9. Write a Python program that uses `map()` to convert a list of temperatures from Celsius to Fahrenheit.\n",
        "# Function to convert Celsius to Fahrenheit\n",
        "celsius_to_fahrenheit = lambda c: (c * 9/5) + 32\n",
        "\n",
        "# List of temperatures in Celsius\n",
        "celsius_temps = [0, 20, 37, 100]\n",
        "\n",
        "# Convert using map()\n",
        "fahrenheit_temps = list(map(celsius_to_fahrenheit, celsius_temps))\n",
        "\n",
        "# Example Usage:\n",
        "print(fahrenheit_temps)  # Output: [32.0, 68.0, 98.6, 212.0]"
      ],
      "metadata": {
        "colab": {
          "base_uri": "https://localhost:8080/"
        },
        "id": "zp7ZojWzOwq3",
        "outputId": "a40164f0-e2a9-4b45-d8c1-e934f3d062cb"
      },
      "execution_count": 9,
      "outputs": [
        {
          "output_type": "stream",
          "name": "stdout",
          "text": [
            "[32.0, 68.0, 98.6, 212.0]\n"
          ]
        }
      ]
    },
    {
      "cell_type": "code",
      "source": [
        "# 10. Create a Python program that uses `filter()` to remove all the vowels from a given string.\n",
        "def remove_vowels(s):\n",
        "    \"\"\"Function to remove vowels from a string using filter().\"\"\"\n",
        "    return ''.join(filter(lambda x: x.lower() not in \"aeiou\", s))\n",
        "\n",
        "# Example Usage:\n",
        "input_string = \"Hello, World!\"\n",
        "output_string = remove_vowels(input_string)\n",
        "print(output_string)  # Output: \"Hll, Wrld!\""
      ],
      "metadata": {
        "colab": {
          "base_uri": "https://localhost:8080/"
        },
        "id": "BVess8RtOm_Z",
        "outputId": "4c6001c8-e1b7-4063-86cd-3fb8a5523513"
      },
      "execution_count": 10,
      "outputs": [
        {
          "output_type": "stream",
          "name": "stdout",
          "text": [
            "Hll, Wrld!\n"
          ]
        }
      ]
    },
    {
      "cell_type": "code",
      "source": [
        "# 11) Imagine an accounting routine used in a book shop.\n",
        "# It works on a list with sublists, where each sublist contains:\n",
        "# [Order Number, Price per Item, Quantity]\n",
        "\n",
        "# Sample order list\n",
        "orders = [\n",
        "    [34587, 4.50, 20],   # Order Number, Price per Item, Quantity\n",
        "    [98762, 5.75, 10],\n",
        "    [77226, 15.00, 5],\n",
        "    [88112, 12.50, 3]\n",
        "]\n",
        "\n",
        "# Using lambda and map to calculate total cost (with a 10€ surcharge if < 100€)\n",
        "order_totals = list(map(lambda order: (order[0],\n",
        "                                       order[1] * order[2] + (10 if order[1] * order[2] < 100 else 0)),\n",
        "                        orders))\n",
        "\n",
        "# Example Output:\n",
        "print(order_totals)\n",
        "# Output: [(34587, 90.0), (98762, 67.5), (77226, 85.0), (88112, 47.5)]"
      ],
      "metadata": {
        "colab": {
          "base_uri": "https://localhost:8080/"
        },
        "id": "nkwPA5A9O9SV",
        "outputId": "bfb91aef-0a31-4722-fe75-f4b04263f10b"
      },
      "execution_count": 11,
      "outputs": [
        {
          "output_type": "stream",
          "name": "stdout",
          "text": [
            "[(34587, 100.0), (98762, 67.5), (77226, 85.0), (88112, 47.5)]\n"
          ]
        }
      ]
    },
    {
      "cell_type": "code",
      "source": [],
      "metadata": {
        "id": "e1j2DHucPBfV"
      },
      "execution_count": null,
      "outputs": []
    }
  ]
}